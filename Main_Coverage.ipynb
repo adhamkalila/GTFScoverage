{
 "cells": [
  {
   "cell_type": "markdown",
   "metadata": {},
   "source": [
    "# Purpose:\n",
    "This notebook contains code to build url and fetch geoJSON from a running OTP session on my local computer and compute base and freuqnt service coverage wihtin the MBTAs Service area using their GTFS."
   ]
  },
  {
   "cell_type": "code",
   "execution_count": 179,
   "metadata": {},
   "outputs": [],
   "source": [
    "import urllib.request\n",
    "import csv\n",
    "import pandas as pd\n",
    "import time\n",
    "import contextlib\n",
    "from shapely.ops import cascaded_union\n",
    "import geopandas as gpd\n",
    "import json\n",
    "import matplotlib.pyplot as plt\n",
    "from shapely.geometry import Polygon\n",
    "from shapely.ops import transform\n",
    "import numpy as np\n",
    "\n",
    " "
   ]
  },
  {
   "cell_type": "code",
   "execution_count": 2,
   "metadata": {},
   "outputs": [],
   "source": [
    "def buildURL(coord, modes, time_sec):\n",
    "    \"\"\"\n",
    "    coord: tuple of lat,long\n",
    "    modes: list of modes in string e.g. ['WALK','TRANSIT']\n",
    "    \n",
    "    \"\"\"\n",
    "    modes = [x.upper() for x in modes]\n",
    "    # check if modes are alright (do later) and find a way to do more than one mode in the string\n",
    "    string = \"http://localhost:8080/otp/routers/default/isochrone?\" + \"batch=true\" + \"&mode=\" + modes[0]+ \"&cutoffSec=\" + str(time_sec)+\"&fromPlace=\"+str(coord[0])+\",\"+str(coord[1]) \n",
    "    return string"
   ]
  },
  {
   "cell_type": "code",
   "execution_count": 3,
   "metadata": {},
   "outputs": [],
   "source": [
    "# setting parameters for the url build\n",
    "time_s = 600\n",
    "modes = ['walk']\n"
   ]
  },
  {
   "cell_type": "code",
   "execution_count": 4,
   "metadata": {},
   "outputs": [],
   "source": [
    "# load in the CSV with stop locations: all stops for base coverage\n",
    "with open('/Users/ASKalila 1/Dropbox (MIT)/DUSP SM/Public Transit/Assignment 2/allMBTAstops.csv','r') as inp:\n",
    "    allstopsDf = pd.read_csv(inp)"
   ]
  },
  {
   "cell_type": "code",
   "execution_count": 5,
   "metadata": {},
   "outputs": [],
   "source": [
    "# make a simple list of the coorinates as (lat,lon)\n",
    "allstops = list(set(zip(allstopsDf.stop_lat, allstopsDf.stop_lon)))"
   ]
  },
  {
   "cell_type": "code",
   "execution_count": 22,
   "metadata": {},
   "outputs": [
    {
     "name": "stdout",
     "output_type": "stream",
     "text": [
      "time taken 0.9479215343793234\n"
     ]
    }
   ],
   "source": [
    "## Make sure OTP is running before: \n",
    "\n",
    "# load polygon of walkshed for every stop \n",
    "start = time.time()\n",
    "polygons = dict()\n",
    "failedcoords = list()\n",
    "count = 0\n",
    "for coord in allstops:\n",
    "    url = buildURL(coord,modes,600)\n",
    "    try:\n",
    "        with contextlib.closing(urllib.request.urlopen(url)) as x:\n",
    "            polygons[coord]= x.read()\n",
    "    except:\n",
    "        failedcoords.append([coord])\n",
    "    count += 1\n",
    "#     if count == 2: break\n",
    "\n",
    "print(f'time taken {(time.time() - start)/60}')"
   ]
  },
  {
   "cell_type": "code",
   "execution_count": 111,
   "metadata": {},
   "outputs": [],
   "source": [
    "# retain the geometries of these polygons\n",
    "polygonlist = list()\n",
    "losthope = list()\n",
    "for k,v in polygons.items():\n",
    "    pp = Polygon(json.loads(v)['features'][0]['geometry']['coordinates'][0][0])\n",
    "    if not pp.is_valid: \n",
    "        pp = pp.buffer(0)\n",
    "        if pp.is_valid: polygonlist.append(pp)\n",
    "        else: losthope.append(k)\n",
    "    elif pp.is_valid: polygonlist.append(pp)"
   ]
  },
  {
   "cell_type": "code",
   "execution_count": 114,
   "metadata": {},
   "outputs": [
    {
     "data": {
      "image/png": "[encoded data removed]",
      "text/plain": [
       "<matplotlib.figure.Figure at 0x116885f98>"
      ]
     },
     "metadata": {},
     "output_type": "display_data"
    }
   ],
   "source": [
    "# the join of all the walksheds of the bus stops of the MBTA\n",
    "boundary = gpd.GeoSeries(cascaded_union(polygonlist))\n",
    "boundary.plot()\n",
    "plt.show()"
   ]
  },
  {
   "cell_type": "code",
   "execution_count": 131,
   "metadata": {},
   "outputs": [],
   "source": [
    "# load the shapefiles as geo-datafames\n",
    "allstopspoly = gpd.GeoDataFrame(boundary)\n",
    "area1 = gpd.GeoDataFrame.from_file(\"/Users/ASKalila 1/Dropbox (MIT)/DUSP SM/Public Transit/Assignment 2/mbta_service_areas/MBTA Highest Assessment Area/GISDATA_RTASMBTAHIGH_POLYPolygon.shp\")\n",
    "area2 = gpd.GeoDataFrame.from_file(\"/Users/ASKalila 1/Dropbox (MIT)/DUSP SM/Public Transit/Assignment 2/mbta_service_areas/MBTA Secondary Assessment Area/GISDATA_RTASMBTASEC_POLYPolygon.shp\")\n",
    "blocks = gpd.GeoDataFrame.from_file(\"/Users/ASKalila 1/Dropbox (MIT)/DUSP SM/Public Transit/Assignment 2/block_groups_2010/block_groups_2010.shp\")\n",
    "\n",
    "MBTAserviceAreas = cascaded_union([area1.geometry[0], area2.geometry[0]])\n",
    "\n"
   ]
  },
  {
   "cell_type": "code",
   "execution_count": 156,
   "metadata": {},
   "outputs": [
    {
     "data": {
      "text/plain": [
       "1.0"
      ]
     },
     "execution_count": 156,
     "metadata": {},
     "output_type": "execute_result"
    }
   ],
   "source": [
    "MBTAserviceAreas\n",
    "blocks.iloc[20]['geometry'].intersection(MBTAserviceAreas).area/blocks.iloc[20]['geometry'].area"
   ]
  },
  {
   "cell_type": "code",
   "execution_count": 155,
   "metadata": {},
   "outputs": [
    {
     "data": {
      "text/html": [
       "<div>\n",
       "<style scoped>\n",
       "    .dataframe tbody tr th:only-of-type {\n",
       "        vertical-align: middle;\n",
       "    }\n",
       "\n",
       "    .dataframe tbody tr th {\n",
       "        vertical-align: top;\n",
       "    }\n",
       "\n",
       "    .dataframe thead th {\n",
       "        text-align: right;\n",
       "    }\n",
       "</style>\n",
       "<table border=\"1\" class=\"dataframe\">\n",
       "  <thead>\n",
       "    <tr style=\"text-align: right;\">\n",
       "      <th></th>\n",
       "      <th>geometry</th>\n",
       "      <th>GEOID10</th>\n",
       "      <th>popTotal</th>\n",
       "      <th>area_m2</th>\n",
       "    </tr>\n",
       "  </thead>\n",
       "  <tbody>\n",
       "    <tr>\n",
       "      <th>0</th>\n",
       "      <td>POLYGON ((-71.30067 42.30531999999999, -71.300...</td>\n",
       "      <td>250214043022</td>\n",
       "      <td>694.000000</td>\n",
       "      <td>381280</td>\n",
       "    </tr>\n",
       "    <tr>\n",
       "      <th>1</th>\n",
       "      <td>POLYGON ((-71.036997 42.153963, -71.037184 42....</td>\n",
       "      <td>250214203022</td>\n",
       "      <td>1017.000000</td>\n",
       "      <td>787770</td>\n",
       "    </tr>\n",
       "    <tr>\n",
       "      <th>2</th>\n",
       "      <td>POLYGON ((-71.03240699999999 42.177118, -71.03...</td>\n",
       "      <td>250214201003</td>\n",
       "      <td>946.000000</td>\n",
       "      <td>371034</td>\n",
       "    </tr>\n",
       "    <tr>\n",
       "      <th>3</th>\n",
       "      <td>(POLYGON ((-70.91562318338407 42.2640038519501...</td>\n",
       "      <td>250214228001</td>\n",
       "      <td>208.915143</td>\n",
       "      <td>1097189</td>\n",
       "    </tr>\n",
       "    <tr>\n",
       "      <th>4</th>\n",
       "      <td>POLYGON ((-70.93980999999999 42.24525999999999...</td>\n",
       "      <td>250214228002</td>\n",
       "      <td>670.233771</td>\n",
       "      <td>522205</td>\n",
       "    </tr>\n",
       "  </tbody>\n",
       "</table>\n",
       "</div>"
      ],
      "text/plain": [
       "                                            geometry       GEOID10  \\\n",
       "0  POLYGON ((-71.30067 42.30531999999999, -71.300...  250214043022   \n",
       "1  POLYGON ((-71.036997 42.153963, -71.037184 42....  250214203022   \n",
       "2  POLYGON ((-71.03240699999999 42.177118, -71.03...  250214201003   \n",
       "3  (POLYGON ((-70.91562318338407 42.2640038519501...  250214228001   \n",
       "4  POLYGON ((-70.93980999999999 42.24525999999999...  250214228002   \n",
       "\n",
       "      popTotal  area_m2  \n",
       "0   694.000000   381280  \n",
       "1  1017.000000   787770  \n",
       "2   946.000000   371034  \n",
       "3   208.915143  1097189  \n",
       "4   670.233771   522205  "
      ]
     },
     "execution_count": 155,
     "metadata": {},
     "output_type": "execute_result"
    }
   ],
   "source": [
    "\n",
    "data = []\n",
    "for index, block in blocks.iterrows():\n",
    "    if block['geometry'].intersects(MBTAserviceAreas):\n",
    "        intersection = block['geometry'].intersection(MBTAserviceAreas)\n",
    "        Area = intersection.area\n",
    "        proportion = Area/block['geometry'].area\n",
    "        data.append({'geometry': intersection, 'GEOID10':block['GEOID10'], 'popTotal': block['popTotal']*proportion, 'area_m2':block['ALAND10']})\n",
    "\n",
    "MBTAblocks = gpd.GeoDataFrame(data,columns=['geometry', 'GEOID10', 'popTotal', 'area_m2'])\n",
    "\n",
    "MBTAblocks.head() # image from a Jupiter/IPython notebook\n",
    "\n",
    "\n"
   ]
  },
  {
   "cell_type": "code",
   "execution_count": 159,
   "metadata": {},
   "outputs": [
    {
     "data": {
      "text/html": [
       "<div>\n",
       "<style scoped>\n",
       "    .dataframe tbody tr th:only-of-type {\n",
       "        vertical-align: middle;\n",
       "    }\n",
       "\n",
       "    .dataframe tbody tr th {\n",
       "        vertical-align: top;\n",
       "    }\n",
       "\n",
       "    .dataframe thead th {\n",
       "        text-align: right;\n",
       "    }\n",
       "</style>\n",
       "<table border=\"1\" class=\"dataframe\">\n",
       "  <thead>\n",
       "    <tr style=\"text-align: right;\">\n",
       "      <th></th>\n",
       "      <th>geometry</th>\n",
       "      <th>GEOID10</th>\n",
       "      <th>popTotal</th>\n",
       "      <th>area_m2</th>\n",
       "      <th>area_sqmi</th>\n",
       "      <th>density</th>\n",
       "    </tr>\n",
       "  </thead>\n",
       "  <tbody>\n",
       "    <tr>\n",
       "      <th>0</th>\n",
       "      <td>POLYGON ((-71.30067 42.30531999999999, -71.300...</td>\n",
       "      <td>250214043022</td>\n",
       "      <td>694.000000</td>\n",
       "      <td>381280</td>\n",
       "      <td>0.147212</td>\n",
       "      <td>4714.278221</td>\n",
       "    </tr>\n",
       "    <tr>\n",
       "      <th>1</th>\n",
       "      <td>POLYGON ((-71.036997 42.153963, -71.037184 42....</td>\n",
       "      <td>250214203022</td>\n",
       "      <td>1017.000000</td>\n",
       "      <td>787770</td>\n",
       "      <td>0.304158</td>\n",
       "      <td>3343.653604</td>\n",
       "    </tr>\n",
       "    <tr>\n",
       "      <th>2</th>\n",
       "      <td>POLYGON ((-71.03240699999999 42.177118, -71.03...</td>\n",
       "      <td>250214201003</td>\n",
       "      <td>946.000000</td>\n",
       "      <td>371034</td>\n",
       "      <td>0.143256</td>\n",
       "      <td>6603.545767</td>\n",
       "    </tr>\n",
       "    <tr>\n",
       "      <th>3</th>\n",
       "      <td>(POLYGON ((-70.91562318338407 42.2640038519501...</td>\n",
       "      <td>250214228001</td>\n",
       "      <td>208.915143</td>\n",
       "      <td>1097189</td>\n",
       "      <td>0.423625</td>\n",
       "      <td>493.160449</td>\n",
       "    </tr>\n",
       "    <tr>\n",
       "      <th>4</th>\n",
       "      <td>POLYGON ((-70.93980999999999 42.24525999999999...</td>\n",
       "      <td>250214228002</td>\n",
       "      <td>670.233771</td>\n",
       "      <td>522205</td>\n",
       "      <td>0.201624</td>\n",
       "      <td>3324.183926</td>\n",
       "    </tr>\n",
       "  </tbody>\n",
       "</table>\n",
       "</div>"
      ],
      "text/plain": [
       "                                            geometry       GEOID10  \\\n",
       "0  POLYGON ((-71.30067 42.30531999999999, -71.300...  250214043022   \n",
       "1  POLYGON ((-71.036997 42.153963, -71.037184 42....  250214203022   \n",
       "2  POLYGON ((-71.03240699999999 42.177118, -71.03...  250214201003   \n",
       "3  (POLYGON ((-70.91562318338407 42.2640038519501...  250214228001   \n",
       "4  POLYGON ((-70.93980999999999 42.24525999999999...  250214228002   \n",
       "\n",
       "      popTotal  area_m2  area_sqmi      density  \n",
       "0   694.000000   381280   0.147212  4714.278221  \n",
       "1  1017.000000   787770   0.304158  3343.653604  \n",
       "2   946.000000   371034   0.143256  6603.545767  \n",
       "3   208.915143  1097189   0.423625   493.160449  \n",
       "4   670.233771   522205   0.201624  3324.183926  "
      ]
     },
     "execution_count": 159,
     "metadata": {},
     "output_type": "execute_result"
    }
   ],
   "source": [
    "# compute density in square miles\n",
    "MBTAblocks['area_sqmi'] = MBTAblocks.area_m2/(2.59e6)\n",
    "MBTAblocks['density'] = MBTAblocks.popTotal/MBTAblocks.area_sqmi\n",
    "MBTAblocks.head()"
   ]
  },
  {
   "cell_type": "code",
   "execution_count": 160,
   "metadata": {},
   "outputs": [
    {
     "name": "stderr",
     "output_type": "stream",
     "text": [
      "/anaconda3/lib/python3.6/site-packages/geopandas/io/file.py:108: FionaDeprecationWarning: Use fiona.Env() instead.\n",
      "  with fiona.drivers():\n"
     ]
    }
   ],
   "source": [
    "MBTAblocks.to_file('blocksMBTAserviceAreas.shp')"
   ]
  },
  {
   "cell_type": "code",
   "execution_count": 176,
   "metadata": {},
   "outputs": [
    {
     "name": "stdout",
     "output_type": "stream",
     "text": [
      "Total population served is 1824098.521303583 which makes 71.71\n"
     ]
    }
   ],
   "source": [
    "# intersect the boundary polygon of all walksheds with the MBTA servcie area blocks\n",
    "allstops_walkshed = boundary.unary_union\n",
    "population_served = 0\n",
    "for index, block in MBTAblocks.iterrows():\n",
    "    if block['geometry'].intersects(allstops_walkshed):\n",
    "        \n",
    "        intersection = block['geometry'].intersection(allstops_walkshed)\n",
    "        Area = intersection.area\n",
    "        proportion = Area/block['geometry'].area\n",
    "        population_served_i = block['popTotal']*proportion\n",
    "        population_served += population_served_i\n",
    "        data.append({'geometry': intersection, 'GEOID10':block['GEOID10'], 'popTotal':block['popTotal'],'popServed': population_served_i, 'block_area_m2':block['area_m2']})\n",
    "        \n",
    "print(f'Total population served is {population_served} which makes {round(100*(population_served/sum(MBTAblocks.popTotal)),2)}')\n"
   ]
  },
  {
   "cell_type": "code",
   "execution_count": 177,
   "metadata": {},
   "outputs": [
    {
     "name": "stdout",
     "output_type": "stream",
     "text": [
      "Total population served, taking not pro rated pop is 2314518.7470613606 which makes 90.99 percent\n"
     ]
    }
   ],
   "source": [
    "# intersect the boundary polygon of all walksheds with the MBTA servcie area blocks\n",
    "allstops_walkshed = boundary.unary_union\n",
    "population_served = 0\n",
    "for index, block in MBTAblocks.iterrows():\n",
    "    if block['geometry'].intersects(allstops_walkshed):\n",
    "        \n",
    "        intersection = block['geometry'].intersection(allstops_walkshed)\n",
    "        Area = intersection.area\n",
    "        proportion = Area/block['geometry'].area\n",
    "        population_served_i = block['popTotal']\n",
    "        population_served += population_served_i\n",
    "        data.append({'geometry': intersection, 'GEOID10':block['GEOID10'], 'popTotal':block['popTotal'],'popServed': population_served_i, 'block_area_m2':block['area_m2']})\n",
    "        \n",
    "print(f'Total population served, taking not pro rated pop is {population_served} which makes {round(100*(population_served/sum(MBTAblocks.popTotal)),2)} percent')\n"
   ]
  },
  {
   "cell_type": "code",
   "execution_count": 210,
   "metadata": {},
   "outputs": [
    {
     "name": "stderr",
     "output_type": "stream",
     "text": [
      "/anaconda3/lib/python3.6/site-packages/geopandas/io/file.py:108: FionaDeprecationWarning: Use fiona.Env() instead.\n",
      "  with fiona.drivers():\n"
     ]
    }
   ],
   "source": [
    "# save the stops walksheds to file for visualization\n",
    "data1 = list()\n",
    "for poly in allstops_walkshed.geoms:\n",
    "    data1.append({'geometry':poly})\n",
    "allstops_walkshed_df = gpd.GeoDataFrame(data1,columns=['geometry'])\n",
    "allstops_walkshed_df.to_file('allstops_walksheds.shp')"
   ]
  },
  {
   "cell_type": "markdown",
   "metadata": {},
   "source": [
    "## For frequent bus serive in dense areas"
   ]
  },
  {
   "cell_type": "code",
   "execution_count": 202,
   "metadata": {},
   "outputs": [
    {
     "name": "stdout",
     "output_type": "stream",
     "text": [
      "Time taken for walksehd polygons: 14.03 seconds with 0 un-processed stops and 0 invalid polygons\n"
     ]
    }
   ],
   "source": [
    "# load in the CSV with stop locations: Frequent stops for Frequent coverage\n",
    "with open('/Users/ASKalila 1/Dropbox (MIT)/DUSP SM/Public Transit/Assignment 2/FrequentMBTAstops.csv','r') as inp:\n",
    "    frequentstopsDf = pd.read_csv(inp)\n",
    "\n",
    "# make a simple list of the coorinates as (lat,lon)\n",
    "frequentstops = list(set(zip(frequentstopsDf.stop_lat, frequentstopsDf.stop_lon)))\n",
    "\n",
    "## Make sure OTP instance is running with Massachussets OSM loaded before:##\n",
    "\n",
    "# determine walkshed polygons for every stop coordinates\n",
    "start = time.time()\n",
    "polygons = dict()\n",
    "failedcoords = list()\n",
    "count = 0\n",
    "for coord in frequentstops:\n",
    "    url = buildURL(coord,modes,600)\n",
    "    try:\n",
    "        with contextlib.closing(urllib.request.urlopen(url)) as x:\n",
    "            polygons[coord]= x.read()\n",
    "    except:\n",
    "        failedcoords.append([coord])\n",
    "\n",
    "# retain the geometries of these polygons\n",
    "polygonlist = list()\n",
    "losthope = list()\n",
    "for k,v in polygons.items():\n",
    "    pp = Polygon(json.loads(v)['features'][0]['geometry']['coordinates'][0][0])\n",
    "    if not pp.is_valid: \n",
    "        pp = pp.buffer(0)\n",
    "        if pp.is_valid: polygonlist.append(pp)\n",
    "        else: losthope.append(k)\n",
    "    elif pp.is_valid: polygonlist.append(pp)\n",
    "        \n",
    "print(f'Time taken for walksehd polygons: {round((time.time() - start),2)} seconds with {len(failedcoords)} un-processed stops and {len(losthope)} invalid polygons')\n",
    "\n"
   ]
  },
  {
   "cell_type": "code",
   "execution_count": 205,
   "metadata": {
    "scrolled": true
   },
   "outputs": [],
   "source": [
    "# create a geodataframe with MBTA blocks with high density only\n",
    "denseMBTAblocks = MBTAblocks[MBTAblocks.density >= 7000]"
   ]
  },
  {
   "cell_type": "code",
   "execution_count": 209,
   "metadata": {},
   "outputs": [
    {
     "name": "stdout",
     "output_type": "stream",
     "text": [
      "Total population served is 680823.6 which makes 50.7 percent pro-rated and 62.97 not pro-rated\n"
     ]
    }
   ],
   "source": [
    "boundary = gpd.GeoSeries(cascaded_union(polygonlist))\n",
    "\n",
    "# intersect the boundary polygon of all walksheds with the MBTA servcie area blocks\n",
    "frequentstops_walkshed = boundary.unary_union\n",
    "population_served = 0\n",
    "population_served_npr = 0\n",
    "for index, block in denseMBTAblocks.iterrows():\n",
    "    if block['geometry'].intersects(frequentstops_walkshed):\n",
    "        \n",
    "        intersection = block['geometry'].intersection(frequentstops_walkshed)\n",
    "        Area = intersection.area\n",
    "        proportion = Area/block['geometry'].area\n",
    "        population_served_i = block['popTotal']*proportion\n",
    "        population_served += population_served_i\n",
    "        population_served_npr += block['popTotal']\n",
    "        \n",
    "print(f'Total population served is {round(population_served,2)} which makes {round(100*(population_served/sum(denseMBTAblocks.popTotal)),2)} percent pro-rated and {round(100*(population_served_npr/sum(denseMBTAblocks.popTotal)),2)} not pro-rated')\n",
    "\n",
    "\n"
   ]
  },
  {
   "cell_type": "code",
   "execution_count": null,
   "metadata": {},
   "outputs": [],
   "source": []
  }
 ],
 "metadata": {
  "kernelspec": {
   "display_name": "Python 3",
   "language": "python",
   "name": "python3"
  },
  "language_info": {
   "codemirror_mode": {
    "name": "ipython",
    "version": 3
   },
   "file_extension": ".py",
   "mimetype": "text/x-python",
   "name": "python",
   "nbconvert_exporter": "python",
   "pygments_lexer": "ipython3",
   "version": "3.6.4"
  }
 },
 "nbformat": 4,
 "nbformat_minor": 2
}
