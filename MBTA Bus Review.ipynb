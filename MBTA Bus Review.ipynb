{
 "cells": [
  {
   "cell_type": "markdown",
   "metadata": {},
   "source": [
    "# MBTA Bus Priority Lanes Review"
   ]
  },
  {
   "cell_type": "markdown",
   "metadata": {},
   "source": [
    "## Contents:\n",
    "1. Code to load and filter the necessary data\n",
    "2. Descriptive statistics of travel before and after the implementation\n",
    "3. Plots of travel time distributions along the route \n",
    "4. An interactive plot for visualizing the data"
   ]
  },
  {
   "cell_type": "code",
   "execution_count": 291,
   "metadata": {},
   "outputs": [],
   "source": [
    "import pandas as pd\n",
    "import numpy as np\n",
    "import matplotlib.pyplot as plt\n",
    "import seaborn as sns\n",
    "import datetime as dt\n",
    "from dateutil.parser import parse\n",
    "from ipywidgets import interact"
   ]
  },
  {
   "cell_type": "code",
   "execution_count": 200,
   "metadata": {},
   "outputs": [],
   "source": [
    "# Read in the data for Mass Ave Route 1\n",
    "path_r1_in = '/Users/ASKalila 1/Dropbox (MIT)/DUSP SM/Public Transit/Assignment 3/AVL Data/South Mass Ave/r1_in.csv'\n",
    "path_r1_out = '/Users/ASKalila 1/Dropbox (MIT)/DUSP SM/Public Transit/Assignment 3/AVL Data/South Mass Ave/r1_out.csv'\n",
    "path_r71_in = '/Users/ASKalila 1/Dropbox (MIT)/DUSP SM/Public Transit/Assignment 3/AVL Data/Mt Auburn St/r71_in.csv'\n",
    "path_r71_out = '/Users/ASKalila 1/Dropbox (MIT)/DUSP SM/Public Transit/Assignment 3/AVL Data/Mt Auburn St/r71_out.csv'\n",
    "path_r73_in = '/Users/ASKalila 1/Dropbox (MIT)/DUSP SM/Public Transit/Assignment 3/AVL Data/Mt Auburn St/r73_in.csv'\n",
    "path_r73_out = '/Users/ASKalila 1/Dropbox (MIT)/DUSP SM/Public Transit/Assignment 3/AVL Data/Mt Auburn St/r73_out.csv'\n",
    "\n",
    "with open(path_r1_in, 'r') as inp:\n",
    "    r1_in = pd.read_csv(inp)   \n",
    "with open(path_r1_out, 'r') as inp:\n",
    "    r1_out = pd.read_csv(inp)   \n",
    "with open(path_r71_in, 'r') as inp:\n",
    "    r71_in = pd.read_csv(inp)\n",
    "with open(path_r71_out, 'r') as inp:\n",
    "    r71_out = pd.read_csv(inp)\n",
    "with open(path_r73_in, 'r') as inp:\n",
    "    r73_in = pd.read_csv(inp)\n",
    "with open(path_r73_out, 'r') as inp:\n",
    "    r73_out = pd.read_csv(inp)\n",
    "    "
   ]
  },
  {
   "cell_type": "code",
   "execution_count": 197,
   "metadata": {},
   "outputs": [],
   "source": [
    "def analyze_route(df):\n",
    "    \"\"\"\n",
    "    Function to produce 5 metrics on travel time for each of three daily times: \n",
    "    1. range\n",
    "    2. lower quartile or 25th percentile\n",
    "    3. 50th percentile or median\n",
    "    4. upper quartile or 75th percentile\n",
    "    5. standard deviation\n",
    "    \n",
    "    input: dataframe of stop arrival times\n",
    "    output: text with calcualtions\n",
    "    \n",
    "    \"\"\"\n",
    "    \n",
    "    \n",
    "    \n",
    "    cols = list()\n",
    "    for x in df.columns:\n",
    "        try: \n",
    "            if type(int(x)) == int: cols.append(x)\n",
    "        except: pass\n",
    "\n",
    "    # Compute time differences \n",
    "\n",
    "    for col in cols:\n",
    "        df[col] = pd.to_datetime(df[col])\n",
    "    df['time1'] = df[cols[1]] - df[cols[0]]\n",
    "    df['time2'] = df[cols[2]] - df[cols[1]]\n",
    "    df['time3'] = df[cols[3]] - df[cols[2]]\n",
    "    df['time4'] = df[cols[3]]- df[cols[0]] # combined stop times\n",
    "    \n",
    "    df['time1_sec'] = df['time1'].dt.total_seconds()\n",
    "    df['time2_sec'] = df['time2'].dt.total_seconds()\n",
    "    df['time3_sec'] = df['time3'].dt.total_seconds()\n",
    "    df['time4_sec'] = df['time4'].dt.total_seconds() # combined stop times\n",
    "    \n",
    "    # Label the time period based on the arrival at the first stop\n",
    "    def time_period(row):\n",
    "        am_start,am_end = dt.time(7,30,0), dt.time(9,30,0) # 7:30 to 9:30 am\n",
    "        midday_start, midday_end = dt.time(12,30,0), dt.time(14,0,0) # 12 to 2 pm\n",
    "        pm_start, pm_end = dt.time(16,30,0), dt.time(18,30,0) # 4:30 to 6:30 pm\n",
    "        try: \n",
    "            if am_start < row[cols[0]].time() < am_end: return 1\n",
    "            elif midday_start < row[cols[0]].time() < midday_end: return 2\n",
    "            elif pm_start < row[cols[0]].time() < pm_end: return 3\n",
    "            else: return 4\n",
    "        except: return 0\n",
    "    df['period'] = df.apply(time_period,axis=1)\n",
    "    \n",
    "    # Produce 5 metric changes for each time period\n",
    "    \n",
    "    time_periods = ['AM Peak', 'Midday','PM_Peak']\n",
    "    for i, period in enumerate(time_periods):\n",
    "        \n",
    "        print(f'---------------------------- {period} ----------------------------')\n",
    "        print('Changes in \\tFirst leg \\tSecond Leg \\tThird Leg \\tCombined')\n",
    "        # Compute all metrics for before implementation:\n",
    "        period_df = df[df.period == i+1][df.prepostm == 0] # filter the df into time periods\n",
    "        r_b4, low_q_b4,median_b4,up_q_b4, std_b4 = list(),list(),list(),list(),list()\n",
    "\n",
    "        for stop in range(1,5):\n",
    "            column_name = 'time'+str(stop)+'_sec'\n",
    "            r_b4.append((max(period_df[period_df[column_name] > 0][column_name]) - min(period_df[period_df[column_name] > 0][column_name]))/60)\n",
    "            low_q_b4.append(np.nanpercentile(period_df[period_df[column_name]>0][column_name],25)/60)\n",
    "            median_b4.append(np.nanpercentile(period_df[period_df[column_name]>0][column_name],50)/60)\n",
    "            up_q_b4.append(np.nanpercentile(period_df[period_df[column_name] > 0][column_name],75)/60)\n",
    "            std_b4.append(np.nanstd(period_df[period_df[column_name]>0][column_name])/60)\n",
    "    \n",
    "        # Compute all metrics for after the implemenetation:\n",
    "        period_df = df[df.period == i+1][df.prepostm == 1] # filter the df into time periods\n",
    "        r_after, low_q_after,median_after,up_q_after, std_after = list(),list(),list(),list(),list()\n",
    "\n",
    "        for stop in range(1,5):\n",
    "            column_name = 'time'+str(stop)+'_sec'\n",
    "            r_after.append((max(period_df[period_df[column_name] > 0][column_name]) - min(period_df[period_df[column_name] > 0][column_name]))/60)\n",
    "            low_q_after.append(np.nanpercentile(period_df[period_df[column_name]>0][column_name],25)/60)\n",
    "            median_after.append(np.nanpercentile(period_df[period_df[column_name]>0][column_name],50)/60)\n",
    "            up_q_after.append(np.nanpercentile(period_df[period_df[column_name] > 0][column_name],75)/60)\n",
    "            std_after.append(np.nanstd(period_df[period_df[column_name]>0][column_name])/60)\n",
    "\n",
    "        \n",
    "        print(f'Range[min]:\\t{round(r_after[0] - r_b4[0],2)} \\t\\t{round(r_after[1] - r_b4[1],2)} \\t\\t{round(r_after[2] - r_b4[2],2)} \\t\\t{round(r_after[3] - r_b4[3],2)}')\n",
    "        print(f'25th Perc[min]:\\t{round(low_q_after[0] - low_q_b4[0],2)} \\t\\t{round(low_q_after[1] - low_q_b4[1],2)} \\t\\t{round(low_q_after[2] - low_q_b4[2],2)} \\t\\t{round(low_q_after[3] - low_q_b4[3],2)}')\n",
    "        print(f'Median[min]:\\t{round(median_after[0] - median_b4[0],2)} \\t\\t{round(median_after[1] - median_b4[1],2)} \\t\\t{round(median_after[2] - median_b4[2],2)} \\t\\t{round(median_after[3] - median_b4[3],2)}')\n",
    "        print(f'75th Perc[min]:\\t{round(up_q_after[0] - up_q_b4[0],2)} \\t\\t{round(up_q_after[1] - up_q_b4[1],2)} \\t\\t{round(up_q_after[2] - up_q_b4[2],2)} \\t\\t{round(up_q_after[3] - up_q_b4[3],2)}')\n",
    "        print(f'Std Dev.[min]:\\t{round(std_after[0] - std_b4[0],2)} \\t\\t{round(std_after[1] - std_b4[1],2)} \\t\\t{round(std_after[2] - std_b4[2],2)} \\t\\t{round(std_after[3] - std_b4[3],2)}')\n",
    "    return df\n",
    "    "
   ]
  },
  {
   "cell_type": "markdown",
   "metadata": {},
   "source": [
    "# 1. Route by Route Stats"
   ]
  },
  {
   "cell_type": "markdown",
   "metadata": {},
   "source": [
    "### Route 1 (Mass Ave) Inbound"
   ]
  },
  {
   "cell_type": "code",
   "execution_count": 207,
   "metadata": {},
   "outputs": [
    {
     "name": "stdout",
     "output_type": "stream",
     "text": [
      "---------------------------- AM Peak ----------------------------\n",
      "Changes in \tFirst leg \tSecond Leg \tThird Leg \tCombined\n",
      "Range[min]:\t2.95 \t\t-2.27 \t\t-1.85 \t\t-0.93\n",
      "25th Perc[min]:\t-0.05 \t\t0.13 \t\t-0.02 \t\t0.18\n",
      "Median[min]:\t0.02 \t\t0.22 \t\t-0.11 \t\t0.38\n",
      "75th Perc[min]:\t0.11 \t\t0.51 \t\t-0.02 \t\t0.65\n",
      "Std Dev.[min]:\t0.13 \t\t0.25 \t\t0.01 \t\t0.2\n",
      "---------------------------- Midday ----------------------------\n",
      "Changes in \tFirst leg \tSecond Leg \tThird Leg \tCombined\n",
      "Range[min]:\t-2.52 \t\t-0.37 \t\t7.72 \t\t2.37\n",
      "25th Perc[min]:\t0.02 \t\t-0.02 \t\t-0.02 \t\t0.24\n",
      "Median[min]:\t-0.02 \t\t0.17 \t\t0.02 \t\t0.37\n",
      "75th Perc[min]:\t-0.04 \t\t0.35 \t\t0.04 \t\t0.45\n",
      "Std Dev.[min]:\t-0.1 \t\t0.25 \t\t0.4 \t\t0.22\n",
      "---------------------------- PM_Peak ----------------------------\n",
      "Changes in \tFirst leg \tSecond Leg \tThird Leg \tCombined\n",
      "Range[min]:\t-0.7 \t\t-13.35 \t\t3.53 \t\t-7.87\n",
      "25th Perc[min]:\t0.01 \t\t-0.07 \t\t-1.06 \t\t-1.14\n",
      "Median[min]:\t-0.02 \t\t0.03 \t\t-1.91 \t\t-1.4\n",
      "75th Perc[min]:\t-0.07 \t\t0.23 \t\t-2.05 \t\t-1.97\n",
      "Std Dev.[min]:\t-0.03 \t\t-0.1 \t\t-0.2 \t\t0.05\n"
     ]
    },
    {
     "name": "stderr",
     "output_type": "stream",
     "text": [
      "/anaconda3/lib/python3.6/site-packages/ipykernel_launcher.py:58: UserWarning: Boolean Series key will be reindexed to match DataFrame index.\n",
      "/anaconda3/lib/python3.6/site-packages/ipykernel_launcher.py:70: UserWarning: Boolean Series key will be reindexed to match DataFrame index.\n"
     ]
    }
   ],
   "source": [
    "r1_in = analyze_route(r1_in)"
   ]
  },
  {
   "cell_type": "markdown",
   "metadata": {},
   "source": [
    "### Route 1 (Mass Ave) Outbound"
   ]
  },
  {
   "cell_type": "code",
   "execution_count": 201,
   "metadata": {
    "scrolled": false
   },
   "outputs": [
    {
     "name": "stdout",
     "output_type": "stream",
     "text": [
      "---------------------------- AM Peak ----------------------------\n",
      "Changes in \tFirst leg \tSecond Leg \tThird Leg \tCombined\n",
      "Range[min]:\t14.22 \t\t0.93 \t\t46.17 \t\t12.73\n",
      "25th Perc[min]:\t0.03 \t\t0.13 \t\t-0.03 \t\t0.17\n",
      "Median[min]:\t0.22 \t\t0.05 \t\t0.02 \t\t0.32\n",
      "75th Perc[min]:\t0.46 \t\t0.02 \t\t0.05 \t\t0.63\n",
      "Std Dev.[min]:\t0.62 \t\t-0.05 \t\t1.4 \t\t0.34\n",
      "---------------------------- Midday ----------------------------\n",
      "Changes in \tFirst leg \tSecond Leg \tThird Leg \tCombined\n",
      "Range[min]:\t1.02 \t\t-0.92 \t\t-2.05 \t\t-3.13\n",
      "25th Perc[min]:\t-0.13 \t\t-0.07 \t\t0.17 \t\t0.08\n",
      "Median[min]:\t-0.1 \t\t-0.08 \t\t0.3 \t\t0.2\n",
      "75th Perc[min]:\t-0.12 \t\t-0.06 \t\t0.32 \t\t0.2\n",
      "Std Dev.[min]:\t0.11 \t\t-0.09 \t\t0.24 \t\t0.06\n",
      "---------------------------- PM_Peak ----------------------------\n",
      "Changes in \tFirst leg \tSecond Leg \tThird Leg \tCombined\n",
      "Range[min]:\t-3.27 \t\t39.28 \t\t-3.2 \t\t17.78\n",
      "25th Perc[min]:\t-0.13 \t\t-0.06 \t\t-0.27 \t\t-0.7\n",
      "Median[min]:\t-0.05 \t\t-0.1 \t\t-0.47 \t\t-0.7\n",
      "75th Perc[min]:\t0.11 \t\t-0.15 \t\t-0.63 \t\t-0.4\n",
      "Std Dev.[min]:\t-0.22 \t\t0.95 \t\t-0.05 \t\t0.23\n"
     ]
    },
    {
     "name": "stderr",
     "output_type": "stream",
     "text": [
      "/anaconda3/lib/python3.6/site-packages/ipykernel_launcher.py:58: UserWarning: Boolean Series key will be reindexed to match DataFrame index.\n",
      "/anaconda3/lib/python3.6/site-packages/ipykernel_launcher.py:70: UserWarning: Boolean Series key will be reindexed to match DataFrame index.\n"
     ]
    }
   ],
   "source": [
    "r1_out = analyze_route(r1_out)"
   ]
  },
  {
   "cell_type": "markdown",
   "metadata": {},
   "source": [
    "### Route 71 (Mt Auburn) Inbound"
   ]
  },
  {
   "cell_type": "code",
   "execution_count": 202,
   "metadata": {},
   "outputs": [
    {
     "name": "stdout",
     "output_type": "stream",
     "text": [
      "---------------------------- AM Peak ----------------------------\n",
      "Changes in \tFirst leg \tSecond Leg \tThird Leg \tCombined\n",
      "Range[min]:\t-13.7 \t\t-12.52 \t\t-4.92 \t\t-4.52\n",
      "25th Perc[min]:\t-0.86 \t\t-3.37 \t\t-0.33 \t\t-3.43\n",
      "Median[min]:\t-1.27 \t\t-3.82 \t\t-0.33 \t\t-4.1\n",
      "75th Perc[min]:\t-3.22 \t\t-2.98 \t\t-0.47 \t\t-4.85\n",
      "Std Dev.[min]:\t-2.14 \t\t-0.72 \t\t-0.33 \t\t-1.69\n",
      "---------------------------- Midday ----------------------------\n",
      "Changes in \tFirst leg \tSecond Leg \tThird Leg \tCombined\n",
      "Range[min]:\t0.73 \t\t-0.93 \t\t0.88 \t\t-0.52\n",
      "25th Perc[min]:\t-0.17 \t\t0.18 \t\t0.01 \t\t-0.13\n",
      "Median[min]:\t-0.1 \t\t0.15 \t\t-0.1 \t\t-0.13\n",
      "75th Perc[min]:\t-0.1 \t\t-0.29 \t\t0.14 \t\t-0.19\n",
      "Std Dev.[min]:\t0.08 \t\t-0.25 \t\t0.05 \t\t-0.07\n",
      "---------------------------- PM_Peak ----------------------------\n",
      "Changes in \tFirst leg \tSecond Leg \tThird Leg \tCombined\n",
      "Range[min]:\t-1.3 \t\t-1.32 \t\t3.83 \t\t-23.38\n",
      "25th Perc[min]:\t-0.35 \t\t-1.2 \t\t-0.17 \t\t-0.25\n",
      "Median[min]:\t-0.1 \t\t-1.22 \t\t-0.35 \t\t-0.45\n",
      "75th Perc[min]:\t0.05 \t\t-2.33 \t\t-0.28 \t\t-0.7\n",
      "Std Dev.[min]:\t-0.21 \t\t-0.64 \t\t0.11 \t\t-0.73\n"
     ]
    },
    {
     "name": "stderr",
     "output_type": "stream",
     "text": [
      "/anaconda3/lib/python3.6/site-packages/ipykernel_launcher.py:58: UserWarning: Boolean Series key will be reindexed to match DataFrame index.\n",
      "/anaconda3/lib/python3.6/site-packages/ipykernel_launcher.py:70: UserWarning: Boolean Series key will be reindexed to match DataFrame index.\n"
     ]
    }
   ],
   "source": [
    "r71_in = analyze_route(r71_in)"
   ]
  },
  {
   "cell_type": "markdown",
   "metadata": {},
   "source": [
    "### Route 71 (Mt Auburn) Outbound"
   ]
  },
  {
   "cell_type": "code",
   "execution_count": 203,
   "metadata": {},
   "outputs": [
    {
     "name": "stdout",
     "output_type": "stream",
     "text": [
      "---------------------------- AM Peak ----------------------------\n",
      "Changes in \tFirst leg \tSecond Leg \tThird Leg \tCombined\n",
      "Range[min]:\t-4.03 \t\t-0.5 \t\t0.33 \t\t-6.0\n",
      "25th Perc[min]:\t0.05 \t\t-0.4 \t\t-0.51 \t\t-0.36\n",
      "Median[min]:\t-0.01 \t\t-0.58 \t\t-0.61 \t\t-0.5\n",
      "75th Perc[min]:\t-0.1 \t\t-0.36 \t\t-0.71 \t\t-0.29\n",
      "Std Dev.[min]:\t-0.43 \t\t-0.17 \t\t-0.09 \t\t-0.22\n",
      "---------------------------- Midday ----------------------------\n",
      "Changes in \tFirst leg \tSecond Leg \tThird Leg \tCombined\n",
      "Range[min]:\t1.3 \t\t-1.15 \t\t-0.85 \t\t-2.25\n",
      "25th Perc[min]:\t-0.25 \t\t0.08 \t\t0.13 \t\t-0.05\n",
      "Median[min]:\t-0.15 \t\t-0.23 \t\t0.13 \t\t-0.02\n",
      "75th Perc[min]:\t-0.08 \t\t-0.2 \t\t0.28 \t\t-0.47\n",
      "Std Dev.[min]:\t0.04 \t\t-0.25 \t\t-0.08 \t\t-0.24\n",
      "---------------------------- PM_Peak ----------------------------\n",
      "Changes in \tFirst leg \tSecond Leg \tThird Leg \tCombined\n",
      "Range[min]:\t0.88 \t\t-3.48 \t\t-15.87 \t\t-19.58\n",
      "25th Perc[min]:\t-0.14 \t\t-0.64 \t\t-1.33 \t\t-1.35\n",
      "Median[min]:\t-0.15 \t\t-0.52 \t\t-1.7 \t\t-2.12\n",
      "75th Perc[min]:\t-0.34 \t\t-1.29 \t\t-1.99 \t\t-2.96\n",
      "Std Dev.[min]:\t-0.02 \t\t-0.7 \t\t-1.02 \t\t-1.0\n"
     ]
    },
    {
     "name": "stderr",
     "output_type": "stream",
     "text": [
      "/anaconda3/lib/python3.6/site-packages/ipykernel_launcher.py:58: UserWarning: Boolean Series key will be reindexed to match DataFrame index.\n",
      "/anaconda3/lib/python3.6/site-packages/ipykernel_launcher.py:70: UserWarning: Boolean Series key will be reindexed to match DataFrame index.\n"
     ]
    }
   ],
   "source": [
    "r71_out = analyze_route(r71_out)"
   ]
  },
  {
   "cell_type": "markdown",
   "metadata": {},
   "source": [
    "### Route 73 (Mt Auburn) Inbound"
   ]
  },
  {
   "cell_type": "code",
   "execution_count": 204,
   "metadata": {},
   "outputs": [
    {
     "name": "stdout",
     "output_type": "stream",
     "text": [
      "---------------------------- AM Peak ----------------------------\n",
      "Changes in \tFirst leg \tSecond Leg \tThird Leg \tCombined\n",
      "Range[min]:\t18.43 \t\t33.25 \t\t30.93 \t\t14.9\n",
      "25th Perc[min]:\t-0.63 \t\t-3.39 \t\t-0.37 \t\t-3.53\n",
      "Median[min]:\t-1.3 \t\t-3.1 \t\t-0.47 \t\t-4.52\n",
      "75th Perc[min]:\t-2.8 \t\t-2.42 \t\t-0.5 \t\t-5.17\n",
      "Std Dev.[min]:\t0.01 \t\t3.81 \t\t0.93 \t\t-1.12\n",
      "---------------------------- Midday ----------------------------\n",
      "Changes in \tFirst leg \tSecond Leg \tThird Leg \tCombined\n",
      "Range[min]:\t0.75 \t\t-0.18 \t\t-1.87 \t\t-1.27\n",
      "25th Perc[min]:\t-0.13 \t\t-0.02 \t\t-0.1 \t\t-0.13\n",
      "Median[min]:\t-0.23 \t\t0.32 \t\t-0.02 \t\t-0.28\n",
      "75th Perc[min]:\t-0.01 \t\t0.1 \t\t0.07 \t\t-0.27\n",
      "Std Dev.[min]:\t0.17 \t\t0.06 \t\t-0.14 \t\t-0.03\n",
      "---------------------------- PM_Peak ----------------------------\n",
      "Changes in \tFirst leg \tSecond Leg \tThird Leg \tCombined\n",
      "Range[min]:\t0.42 \t\t-4.72 \t\t23.5 \t\t14.22\n",
      "25th Perc[min]:\t-0.3 \t\t-0.07 \t\t-0.11 \t\t-0.29\n",
      "Median[min]:\t-0.47 \t\t0.11 \t\t0.07 \t\t-0.53\n",
      "75th Perc[min]:\t-0.57 \t\t-0.63 \t\t0.01 \t\t-0.66\n",
      "Std Dev.[min]:\t-0.06 \t\t-0.72 \t\t1.42 \t\t-0.23\n"
     ]
    },
    {
     "name": "stderr",
     "output_type": "stream",
     "text": [
      "/anaconda3/lib/python3.6/site-packages/ipykernel_launcher.py:58: UserWarning: Boolean Series key will be reindexed to match DataFrame index.\n",
      "/anaconda3/lib/python3.6/site-packages/ipykernel_launcher.py:70: UserWarning: Boolean Series key will be reindexed to match DataFrame index.\n"
     ]
    }
   ],
   "source": [
    "r73_in = analyze_route(r73_in)"
   ]
  },
  {
   "cell_type": "markdown",
   "metadata": {},
   "source": [
    "### Route 73 (Mt Auburn) Outbound"
   ]
  },
  {
   "cell_type": "code",
   "execution_count": 205,
   "metadata": {},
   "outputs": [
    {
     "name": "stdout",
     "output_type": "stream",
     "text": [
      "---------------------------- AM Peak ----------------------------\n",
      "Changes in \tFirst leg \tSecond Leg \tThird Leg \tCombined\n",
      "Range[min]:\t-7.92 \t\t1.55 \t\t-0.22 \t\t-5.37\n",
      "25th Perc[min]:\t-0.19 \t\t-0.25 \t\t-0.3 \t\t-0.35\n",
      "Median[min]:\t-0.15 \t\t-0.1 \t\t-0.35 \t\t-0.57\n",
      "75th Perc[min]:\t-0.22 \t\t-0.0 \t\t-0.57 \t\t-0.77\n",
      "Std Dev.[min]:\t-0.51 \t\t0.13 \t\t-0.15 \t\t-0.36\n",
      "---------------------------- Midday ----------------------------\n",
      "Changes in \tFirst leg \tSecond Leg \tThird Leg \tCombined\n",
      "Range[min]:\t3.68 \t\t0.02 \t\t0.85 \t\t1.03\n",
      "25th Perc[min]:\t-0.13 \t\t0.49 \t\t0.03 \t\t-0.13\n",
      "Median[min]:\t0.1 \t\t0.37 \t\t-0.23 \t\t-0.15\n",
      "75th Perc[min]:\t0.35 \t\t0.25 \t\t0.03 \t\t-0.38\n",
      "Std Dev.[min]:\t0.18 \t\t-0.01 \t\t0.05 \t\t-0.02\n",
      "---------------------------- PM_Peak ----------------------------\n",
      "Changes in \tFirst leg \tSecond Leg \tThird Leg \tCombined\n",
      "Range[min]:\t-10.57 \t\t0.53 \t\t4.98 \t\t-0.77\n",
      "25th Perc[min]:\t-0.15 \t\t-0.33 \t\t-1.18 \t\t-1.3\n",
      "Median[min]:\t-0.14 \t\t-0.52 \t\t-1.53 \t\t-1.97\n",
      "75th Perc[min]:\t-0.02 \t\t-1.22 \t\t-1.82 \t\t-3.13\n",
      "Std Dev.[min]:\t-0.44 \t\t-0.51 \t\t-0.44 \t\t-0.97\n"
     ]
    },
    {
     "name": "stderr",
     "output_type": "stream",
     "text": [
      "/anaconda3/lib/python3.6/site-packages/ipykernel_launcher.py:58: UserWarning: Boolean Series key will be reindexed to match DataFrame index.\n",
      "/anaconda3/lib/python3.6/site-packages/ipykernel_launcher.py:70: UserWarning: Boolean Series key will be reindexed to match DataFrame index.\n"
     ]
    }
   ],
   "source": [
    "r73_out = analyze_route(r73_out)"
   ]
  },
  {
   "cell_type": "markdown",
   "metadata": {},
   "source": [
    "## Plots"
   ]
  },
  {
   "cell_type": "code",
   "execution_count": 270,
   "metadata": {
    "scrolled": true
   },
   "outputs": [],
   "source": [
    "# combine all the series needed for plots in one df\n",
    "Comb_median_b4 = pd.concat([r1_in[r1_in.prepostm == 0].time4_sec/60, \n",
    "                                 \n",
    "                                 r71_in[r71_in.prepostm ==0].time4_sec/60,\n",
    "                                 \n",
    "                                 r73_in[r73_in.prepostm ==0].time4_sec/60,\n",
    "                                 \n",
    "                                 r1_out[r1_out.prepostm ==0].time4_sec/60,\n",
    "                                 \n",
    "                                 r71_out[r71_out.prepostm ==0].time4_sec/60,\n",
    "                                 \n",
    "                                 r73_out[r73_out.prepostm ==0].time4_sec/60,\n",
    "                                 \n",
    "                                ], axis=1)\n",
    "\n",
    "Comb_median_after = pd.concat([\n",
    "                                 r1_in[r1_in.prepostm == 1].time4_sec/60, \n",
    "                                 \n",
    "                                 r71_in[r71_in.prepostm ==1].time4_sec/60,\n",
    "                                 \n",
    "                                 r73_in[r73_in.prepostm ==1].time4_sec/60,\n",
    "                                 \n",
    "                                 r1_out[r1_out.prepostm ==1].time4_sec/60,\n",
    "                                 \n",
    "                                 r71_out[r71_out.prepostm ==1].time4_sec/60,\n",
    "                                 \n",
    "                                 r73_out[r73_out.prepostm ==1].time4_sec/60\n",
    "                                ], axis=1)\n",
    "\n",
    "Comb_median_after.columns = ['r1_in',\n",
    "                              'r71_in',\n",
    "                              'r73_in',\n",
    "                              'r1_out',\n",
    "                               'r71_out',\n",
    "                              'r73_out']\n",
    "Comb_median_b4.columns = ['r1_in',\n",
    "                              'r71_in',\n",
    "                              'r73_in',\n",
    "                              'r1_out',\n",
    "                               'r71_out',\n",
    "                              'r73_out']\n",
    "\n",
    "Comb_median_b4 = Comb_median_b4.clip_lower(0)\n",
    "Comb_median_after = Comb_median_after.clip_lower(0)\n"
   ]
  },
  {
   "cell_type": "code",
   "execution_count": 279,
   "metadata": {
    "scrolled": true
   },
   "outputs": [],
   "source": [
    "def draw_histograms(df_b4,df_after, n_rows, n_cols):\n",
    "    fig = plt.figure(figsize =(10,8))\n",
    "    for i, var_name in enumerate(df_b4.columns):\n",
    "        ax=fig.add_subplot(n_rows,n_cols,i+1)\n",
    "        ax.hist(df_b4[var_name][~np.isnan(df_b4[var_name])],\n",
    "                bins = 40, alpha = 0.5, normed = True,label='Before')\n",
    "        ax.hold(True)\n",
    "        ax.hist(df_after[var_name][~np.isnan(df_after[var_name])],\n",
    "                bins = 40, alpha = 0.5, normed = True,label='After')\n",
    "\n",
    "        ax.set_title(var_name+\" Distribution\")\n",
    "        if (i+1)%3 == 0: ax.legend()\n",
    "    fig.tight_layout()  # Improves appearance a bit.\n",
    "    plt.show()"
   ]
  },
  {
   "cell_type": "code",
   "execution_count": 289,
   "metadata": {},
   "outputs": [],
   "source": [
    "def sns_histograms(df_b4,df_after, n_rows, n_cols):\n",
    "    fig = plt.figure(figsize =(12,9))\n",
    "    for i, var_name in enumerate(df_b4.columns):\n",
    "        ax=fig.add_subplot(n_rows,n_cols,i+1)\n",
    "        sns.distplot(df_b4[var_name][~np.isnan(df_b4[var_name])],\n",
    "                bins = 40,label='Before')\n",
    "        ax.hold(True)\n",
    "        sns.distplot(df_after[var_name][~np.isnan(df_after[var_name])],\n",
    "                bins = 40, label='After')\n",
    "\n",
    "        ax.set_title(var_name+\" Distribution\")\n",
    "        if (i+1)%3 == 0: ax.legend()\n",
    "    fig.tight_layout()  # Improves appearance a bit.\n",
    "    plt.show()"
   ]
  },
  {
   "cell_type": "code",
   "execution_count": 280,
   "metadata": {},
   "outputs": [
    {
     "name": "stderr",
     "output_type": "stream",
     "text": [
      "/anaconda3/lib/python3.6/site-packages/ipykernel_launcher.py:7: MatplotlibDeprecationWarning: axes.hold is deprecated.\n",
      "    See the API Changes document (http://matplotlib.org/api/api_changes.html)\n",
      "    for more details.\n",
      "  import sys\n"
     ]
    },
    {
     "data": {
      "image/png": "[encoded data removed]",
      "text/plain": [
       "<matplotlib.figure.Figure at 0x1a12338f60>"
      ]
     },
     "metadata": {},
     "output_type": "display_data"
    }
   ],
   "source": [
    "draw_histograms(Comb_median_b4,Comb_median_after,3,3)"
   ]
  },
  {
   "cell_type": "code",
   "execution_count": 284,
   "metadata": {},
   "outputs": [
    {
     "name": "stderr",
     "output_type": "stream",
     "text": [
      "/anaconda3/lib/python3.6/site-packages/ipykernel_launcher.py:5: MatplotlibDeprecationWarning: axes.hold is deprecated.\n",
      "    See the API Changes document (http://matplotlib.org/api/api_changes.html)\n",
      "    for more details.\n",
      "  \"\"\"\n"
     ]
    },
    {
     "data": {
      "image/png": "[encoded data removed]",
      "text/plain": [
       "<matplotlib.figure.Figure at 0x1a197acda0>"
      ]
     },
     "metadata": {},
     "output_type": "display_data"
    }
   ],
   "source": [
    "fig = plt.figure(figsize=(15,15))\n",
    "ax = fig.add_subplot(3,3,1)\n",
    "sns.distplot(Comb_median_changes['r1_in_after'][~np.isnan(Comb_median_changes.r1_in_after)]\n",
    ", bins = 30,ax = ax)\n",
    "ax.hold(True)\n",
    "sns.distplot(Comb_median_changes['r1_in_b4'][~np.isnan(Comb_median_changes.r1_in_b4)],\n",
    "        bins=20,  ax = ax)\n",
    "\n",
    "plt.show()"
   ]
  },
  {
   "cell_type": "code",
   "execution_count": 290,
   "metadata": {
    "scrolled": false
   },
   "outputs": [
    {
     "name": "stderr",
     "output_type": "stream",
     "text": [
      "/anaconda3/lib/python3.6/site-packages/ipykernel_launcher.py:7: MatplotlibDeprecationWarning: axes.hold is deprecated.\n",
      "    See the API Changes document (http://matplotlib.org/api/api_changes.html)\n",
      "    for more details.\n",
      "  import sys\n"
     ]
    },
    {
     "data": {
      "image/png": "[encoded data removed]",
      "text/plain": [
       "<matplotlib.figure.Figure at 0x1a1a92c358>"
      ]
     },
     "metadata": {},
     "output_type": "display_data"
    }
   ],
   "source": [
    "sns_histograms(Comb_median_b4,Comb_median_after,3,3)"
   ]
  },
  {
   "cell_type": "markdown",
   "metadata": {},
   "source": [
    "## Interactive plot"
   ]
  },
  {
   "cell_type": "code",
   "execution_count": null,
   "metadata": {},
   "outputs": [],
   "source": [
    "def one_histogram(df_b4,df_after):\n",
    "    fig = plt.figure(figsize =(12,9))\n",
    "    for i, var_name in enumerate(df_b4.columns):\n",
    "        ax=fig.add_subplot(n_rows,n_cols,i+1)\n",
    "        sns.distplot(df_b4[var_name][~np.isnan(df_b4[var_name])],\n",
    "                bins = 40,label='Before')\n",
    "        ax.hold(True)\n",
    "        sns.distplot(df_after[var_name][~np.isnan(df_after[var_name])],\n",
    "                bins = 40, label='After')\n",
    "\n",
    "        ax.set_title(var_name+\" Distribution\")\n",
    "        if (i+1)%3 == 0: ax.legend()\n",
    "    fig.tight_layout()  # Improves appearance a bit.\n",
    "    plt.show()"
   ]
  },
  {
   "cell_type": "code",
   "execution_count": null,
   "metadata": {},
   "outputs": [],
   "source": []
  },
  {
   "cell_type": "code",
   "execution_count": null,
   "metadata": {},
   "outputs": [],
   "source": []
  },
  {
   "cell_type": "code",
   "execution_count": null,
   "metadata": {},
   "outputs": [],
   "source": []
  }
 ],
 "metadata": {
  "kernelspec": {
   "display_name": "Python 3",
   "language": "python",
   "name": "python3"
  },
  "language_info": {
   "codemirror_mode": {
    "name": "ipython",
    "version": 3
   },
   "file_extension": ".py",
   "mimetype": "text/x-python",
   "name": "python",
   "nbconvert_exporter": "python",
   "pygments_lexer": "ipython3",
   "version": "3.6.4"
  }
 },
 "nbformat": 4,
 "nbformat_minor": 2
}
